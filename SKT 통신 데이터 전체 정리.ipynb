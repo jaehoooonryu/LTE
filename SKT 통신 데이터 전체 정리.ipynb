{
 "cells": [
  {
   "cell_type": "code",
   "execution_count": 213,
   "metadata": {},
   "outputs": [],
   "source": [
    "import os\n",
    "import numpy as np\n",
    "import pandas as pd\n",
    "import seaborn as sns\n",
    "import matplotlib.pyplot as plt\n",
    "plt.rcParams[\"figure.figsize\"] = (10, 8)"
   ]
  },
  {
   "cell_type": "code",
   "execution_count": 214,
   "metadata": {},
   "outputs": [
    {
     "name": "stdout",
     "output_type": "stream",
     "text": [
      "total data\\KT DATA\\01_0745_0840.csv\n",
      "total data\\KT DATA\\01_0800_1000.csv\n",
      "total data\\KT DATA\\01_0935_1130.csv\n",
      "total data\\KT DATA\\02_0840_0920.csv\n",
      "total data\\KT DATA\\02_1000_1200.csv\n",
      "total data\\KT DATA\\02_1130_1300.csv\n",
      "total data\\KT DATA\\03_0920_1120.csv\n",
      "total data\\KT DATA\\03_1200_1400.csv\n",
      "total data\\KT DATA\\03_1300_1500.csv\n",
      "total data\\KT DATA\\04_1120_1320.csv\n",
      "total data\\KT DATA\\04_1400_1600.csv\n",
      "total data\\KT DATA\\04_1500_1700.csv\n",
      "total data\\KT DATA\\05_1320_1520.csv\n",
      "total data\\KT DATA\\05_1700_1850.csv\n",
      "total data\\KT DATA\\06_1520_1720.csv\n",
      "total data\\KT DATA\\07_1720_1920.csv\n",
      "total data\\KT DATA\\08_1920_2120.csv\n",
      "total data\\KT DATA\\09_2120_2320.csv\n"
     ]
    },
    {
     "data": {
      "text/html": [
       "<div>\n",
       "<style scoped>\n",
       "    .dataframe tbody tr th:only-of-type {\n",
       "        vertical-align: middle;\n",
       "    }\n",
       "\n",
       "    .dataframe tbody tr th {\n",
       "        vertical-align: top;\n",
       "    }\n",
       "\n",
       "    .dataframe thead th {\n",
       "        text-align: right;\n",
       "    }\n",
       "</style>\n",
       "<table border=\"1\" class=\"dataframe\">\n",
       "  <thead>\n",
       "    <tr style=\"text-align: right;\">\n",
       "      <th></th>\n",
       "      <th>id</th>\n",
       "      <th>_NAME</th>\n",
       "      <th>_NUMERICID</th>\n",
       "      <th>_VALUE</th>\n",
       "      <th>_TIMESTAMP</th>\n",
       "      <th>_QUALITY</th>\n",
       "    </tr>\n",
       "  </thead>\n",
       "  <tbody>\n",
       "    <tr>\n",
       "      <td>0</td>\n",
       "      <td>1</td>\n",
       "      <td>chRX_KT_svr.Device1.chTxCntSimulatorKT.TxKT_LT...</td>\n",
       "      <td>0</td>\n",
       "      <td>11854</td>\n",
       "      <td>2020-04-05 07:51:57.817</td>\n",
       "      <td>192</td>\n",
       "    </tr>\n",
       "    <tr>\n",
       "      <td>1</td>\n",
       "      <td>2</td>\n",
       "      <td>chRX_KT_svr.Device1.chTxCntSimulatorKT.TxKT_LT...</td>\n",
       "      <td>0</td>\n",
       "      <td>11854</td>\n",
       "      <td>2020-04-05 07:51:57.817</td>\n",
       "      <td>192</td>\n",
       "    </tr>\n",
       "    <tr>\n",
       "      <td>2</td>\n",
       "      <td>3</td>\n",
       "      <td>chRX_KT_svr.Device1.chTxCntSimulatorKT.TxKT_LT...</td>\n",
       "      <td>0</td>\n",
       "      <td>11855</td>\n",
       "      <td>2020-04-05 07:51:57.830</td>\n",
       "      <td>192</td>\n",
       "    </tr>\n",
       "    <tr>\n",
       "      <td>3</td>\n",
       "      <td>4</td>\n",
       "      <td>chRX_KT_svr.Device1.chTxCntSimulatorKT.TxKT_LT...</td>\n",
       "      <td>0</td>\n",
       "      <td>11854</td>\n",
       "      <td>2020-04-05 07:51:57.817</td>\n",
       "      <td>192</td>\n",
       "    </tr>\n",
       "    <tr>\n",
       "      <td>4</td>\n",
       "      <td>5</td>\n",
       "      <td>chRX_KT_svr.Device1.chTxCntSimulatorKT.TxKT_LT...</td>\n",
       "      <td>0</td>\n",
       "      <td>11854</td>\n",
       "      <td>2020-04-05 07:51:57.817</td>\n",
       "      <td>192</td>\n",
       "    </tr>\n",
       "    <tr>\n",
       "      <td>...</td>\n",
       "      <td>...</td>\n",
       "      <td>...</td>\n",
       "      <td>...</td>\n",
       "      <td>...</td>\n",
       "      <td>...</td>\n",
       "      <td>...</td>\n",
       "    </tr>\n",
       "    <tr>\n",
       "      <td>8684525</td>\n",
       "      <td>145996</td>\n",
       "      <td>chRX_KT_svr.Device1.chTxCntSimulatorKT.TxKT_LT...</td>\n",
       "      <td>0</td>\n",
       "      <td>65275</td>\n",
       "      <td>2020-04-05 22:41:56.043</td>\n",
       "      <td>192</td>\n",
       "    </tr>\n",
       "    <tr>\n",
       "      <td>8684526</td>\n",
       "      <td>145997</td>\n",
       "      <td>chRX_KT_svr.Device1.chTxCntSimulatorKT.TxKT_LT...</td>\n",
       "      <td>0</td>\n",
       "      <td>65275</td>\n",
       "      <td>2020-04-05 22:41:56.043</td>\n",
       "      <td>192</td>\n",
       "    </tr>\n",
       "    <tr>\n",
       "      <td>8684527</td>\n",
       "      <td>145998</td>\n",
       "      <td>chRX_KT_svr.Device1.chTxCntSimulatorKT.TxKT_LT...</td>\n",
       "      <td>0</td>\n",
       "      <td>65275</td>\n",
       "      <td>2020-04-05 22:41:56.043</td>\n",
       "      <td>192</td>\n",
       "    </tr>\n",
       "    <tr>\n",
       "      <td>8684528</td>\n",
       "      <td>145999</td>\n",
       "      <td>chRX_KT_svr.Device1.chTxCntSimulatorKT.TxKT_LT...</td>\n",
       "      <td>0</td>\n",
       "      <td>65275</td>\n",
       "      <td>2020-04-05 22:41:56.043</td>\n",
       "      <td>192</td>\n",
       "    </tr>\n",
       "    <tr>\n",
       "      <td>8684529</td>\n",
       "      <td>146000</td>\n",
       "      <td>chRX_KT_svr.Device1.chTxCntSimulatorKT.TxKT_LT...</td>\n",
       "      <td>0</td>\n",
       "      <td>65275</td>\n",
       "      <td>2020-04-05 22:41:56.043</td>\n",
       "      <td>192</td>\n",
       "    </tr>\n",
       "  </tbody>\n",
       "</table>\n",
       "<p>8684530 rows × 6 columns</p>\n",
       "</div>"
      ],
      "text/plain": [
       "             id                                              _NAME  \\\n",
       "0             1  chRX_KT_svr.Device1.chTxCntSimulatorKT.TxKT_LT...   \n",
       "1             2  chRX_KT_svr.Device1.chTxCntSimulatorKT.TxKT_LT...   \n",
       "2             3  chRX_KT_svr.Device1.chTxCntSimulatorKT.TxKT_LT...   \n",
       "3             4  chRX_KT_svr.Device1.chTxCntSimulatorKT.TxKT_LT...   \n",
       "4             5  chRX_KT_svr.Device1.chTxCntSimulatorKT.TxKT_LT...   \n",
       "...         ...                                                ...   \n",
       "8684525  145996  chRX_KT_svr.Device1.chTxCntSimulatorKT.TxKT_LT...   \n",
       "8684526  145997  chRX_KT_svr.Device1.chTxCntSimulatorKT.TxKT_LT...   \n",
       "8684527  145998  chRX_KT_svr.Device1.chTxCntSimulatorKT.TxKT_LT...   \n",
       "8684528  145999  chRX_KT_svr.Device1.chTxCntSimulatorKT.TxKT_LT...   \n",
       "8684529  146000  chRX_KT_svr.Device1.chTxCntSimulatorKT.TxKT_LT...   \n",
       "\n",
       "         _NUMERICID  _VALUE               _TIMESTAMP  _QUALITY  \n",
       "0                 0   11854  2020-04-05 07:51:57.817       192  \n",
       "1                 0   11854  2020-04-05 07:51:57.817       192  \n",
       "2                 0   11855  2020-04-05 07:51:57.830       192  \n",
       "3                 0   11854  2020-04-05 07:51:57.817       192  \n",
       "4                 0   11854  2020-04-05 07:51:57.817       192  \n",
       "...             ...     ...                      ...       ...  \n",
       "8684525           0   65275  2020-04-05 22:41:56.043       192  \n",
       "8684526           0   65275  2020-04-05 22:41:56.043       192  \n",
       "8684527           0   65275  2020-04-05 22:41:56.043       192  \n",
       "8684528           0   65275  2020-04-05 22:41:56.043       192  \n",
       "8684529           0   65275  2020-04-05 22:41:56.043       192  \n",
       "\n",
       "[8684530 rows x 6 columns]"
      ]
     },
     "execution_count": 214,
     "metadata": {},
     "output_type": "execute_result"
    }
   ],
   "source": [
    "DATA_DIR = 'total data\\KT DATA'\n",
    "data_files = [os.path.join(DATA_DIR, filename) for filename in os.listdir(DATA_DIR)]\n",
    "list_df = []\n",
    "for filename in data_files:\n",
    "    print(filename)\n",
    "    list_df.append(pd.read_csv(filename))\n",
    "\n",
    "df = pd.concat(list_df, sort = False)\n",
    "df = df.reset_index(drop = True)    \n",
    "df"
   ]
  },
  {
   "cell_type": "code",
   "execution_count": 215,
   "metadata": {},
   "outputs": [
    {
     "data": {
      "text/html": [
       "<div>\n",
       "<style scoped>\n",
       "    .dataframe tbody tr th:only-of-type {\n",
       "        vertical-align: middle;\n",
       "    }\n",
       "\n",
       "    .dataframe tbody tr th {\n",
       "        vertical-align: top;\n",
       "    }\n",
       "\n",
       "    .dataframe thead th {\n",
       "        text-align: right;\n",
       "    }\n",
       "</style>\n",
       "<table border=\"1\" class=\"dataframe\">\n",
       "  <thead>\n",
       "    <tr style=\"text-align: right;\">\n",
       "      <th></th>\n",
       "      <th>_NAME</th>\n",
       "      <th>_VALUE</th>\n",
       "      <th>_TIMESTAMP</th>\n",
       "    </tr>\n",
       "  </thead>\n",
       "  <tbody>\n",
       "    <tr>\n",
       "      <td>0</td>\n",
       "      <td>Tag1</td>\n",
       "      <td>11854</td>\n",
       "      <td>2020-04-05 07:51:57.817</td>\n",
       "    </tr>\n",
       "    <tr>\n",
       "      <td>5516013</td>\n",
       "      <td>Tag1</td>\n",
       "      <td>19451</td>\n",
       "      <td>2020-04-04 15:46:21.623</td>\n",
       "    </tr>\n",
       "    <tr>\n",
       "      <td>309964</td>\n",
       "      <td>Tag1</td>\n",
       "      <td>33845</td>\n",
       "      <td>2020-04-06 08:10:11.207</td>\n",
       "    </tr>\n",
       "    <tr>\n",
       "      <td>5515913</td>\n",
       "      <td>Tag1</td>\n",
       "      <td>19450</td>\n",
       "      <td>2020-04-04 15:46:20.623</td>\n",
       "    </tr>\n",
       "    <tr>\n",
       "      <td>5515813</td>\n",
       "      <td>Tag1</td>\n",
       "      <td>19449</td>\n",
       "      <td>2020-04-04 15:46:19.623</td>\n",
       "    </tr>\n",
       "  </tbody>\n",
       "</table>\n",
       "</div>"
      ],
      "text/plain": [
       "        _NAME  _VALUE              _TIMESTAMP\n",
       "0        Tag1   11854 2020-04-05 07:51:57.817\n",
       "5516013  Tag1   19451 2020-04-04 15:46:21.623\n",
       "309964   Tag1   33845 2020-04-06 08:10:11.207\n",
       "5515913  Tag1   19450 2020-04-04 15:46:20.623\n",
       "5515813  Tag1   19449 2020-04-04 15:46:19.623"
      ]
     },
     "execution_count": 215,
     "metadata": {},
     "output_type": "execute_result"
    }
   ],
   "source": [
    "df = df.drop(['_QUALITY', '_NUMERICID', 'id'], axis=1)\n",
    "# df['_NAME'] = df['_NAME'].apply(lambda x: x.split('Group1.')[-1]) #SKT\n",
    "df['_NAME'] = df['_NAME'].apply(lambda x: x.split('LTE.')[-1]) #KT\n",
    "df = df.sort_values(by = '_NAME', ascending = True)\n",
    "from datetime import datetime\n",
    "df['_TIMESTAMP'] = pd.to_datetime(df['_TIMESTAMP'].astype('str'))\n",
    "df['_VALUE'] = df['_VALUE'].astype('str').astype('int64')\n",
    "df.head()"
   ]
  },
  {
   "cell_type": "code",
   "execution_count": 216,
   "metadata": {},
   "outputs": [
    {
     "data": {
      "text/html": [
       "<div>\n",
       "<style scoped>\n",
       "    .dataframe tbody tr th:only-of-type {\n",
       "        vertical-align: middle;\n",
       "    }\n",
       "\n",
       "    .dataframe tbody tr th {\n",
       "        vertical-align: top;\n",
       "    }\n",
       "\n",
       "    .dataframe thead th {\n",
       "        text-align: right;\n",
       "    }\n",
       "</style>\n",
       "<table border=\"1\" class=\"dataframe\">\n",
       "  <thead>\n",
       "    <tr style=\"text-align: right;\">\n",
       "      <th></th>\n",
       "      <th>_NAME</th>\n",
       "      <th>_VALUE</th>\n",
       "      <th>_TIMESTAMP</th>\n",
       "    </tr>\n",
       "  </thead>\n",
       "  <tbody>\n",
       "    <tr>\n",
       "      <td>0</td>\n",
       "      <td>Tag1</td>\n",
       "      <td>62711</td>\n",
       "      <td>2020-04-04 09:35:19.563</td>\n",
       "    </tr>\n",
       "    <tr>\n",
       "      <td>1</td>\n",
       "      <td>Tag1</td>\n",
       "      <td>62712</td>\n",
       "      <td>2020-04-04 09:35:20.563</td>\n",
       "    </tr>\n",
       "    <tr>\n",
       "      <td>2</td>\n",
       "      <td>Tag1</td>\n",
       "      <td>62713</td>\n",
       "      <td>2020-04-04 09:35:21.563</td>\n",
       "    </tr>\n",
       "    <tr>\n",
       "      <td>3</td>\n",
       "      <td>Tag1</td>\n",
       "      <td>62714</td>\n",
       "      <td>2020-04-04 09:35:22.563</td>\n",
       "    </tr>\n",
       "    <tr>\n",
       "      <td>4</td>\n",
       "      <td>Tag1</td>\n",
       "      <td>62715</td>\n",
       "      <td>2020-04-04 09:35:23.563</td>\n",
       "    </tr>\n",
       "    <tr>\n",
       "      <td>...</td>\n",
       "      <td>...</td>\n",
       "      <td>...</td>\n",
       "      <td>...</td>\n",
       "    </tr>\n",
       "    <tr>\n",
       "      <td>86839</td>\n",
       "      <td>Tag1</td>\n",
       "      <td>58155</td>\n",
       "      <td>2020-04-06 14:55:09.300</td>\n",
       "    </tr>\n",
       "    <tr>\n",
       "      <td>86840</td>\n",
       "      <td>Tag1</td>\n",
       "      <td>58156</td>\n",
       "      <td>2020-04-06 14:55:10.300</td>\n",
       "    </tr>\n",
       "    <tr>\n",
       "      <td>86841</td>\n",
       "      <td>Tag1</td>\n",
       "      <td>58157</td>\n",
       "      <td>2020-04-06 14:55:11.300</td>\n",
       "    </tr>\n",
       "    <tr>\n",
       "      <td>86842</td>\n",
       "      <td>Tag1</td>\n",
       "      <td>58158</td>\n",
       "      <td>2020-04-06 14:55:12.300</td>\n",
       "    </tr>\n",
       "    <tr>\n",
       "      <td>86843</td>\n",
       "      <td>Tag1</td>\n",
       "      <td>58159</td>\n",
       "      <td>2020-04-06 14:55:13.300</td>\n",
       "    </tr>\n",
       "  </tbody>\n",
       "</table>\n",
       "<p>86844 rows × 3 columns</p>\n",
       "</div>"
      ],
      "text/plain": [
       "      _NAME  _VALUE              _TIMESTAMP\n",
       "0      Tag1   62711 2020-04-04 09:35:19.563\n",
       "1      Tag1   62712 2020-04-04 09:35:20.563\n",
       "2      Tag1   62713 2020-04-04 09:35:21.563\n",
       "3      Tag1   62714 2020-04-04 09:35:22.563\n",
       "4      Tag1   62715 2020-04-04 09:35:23.563\n",
       "...     ...     ...                     ...\n",
       "86839  Tag1   58155 2020-04-06 14:55:09.300\n",
       "86840  Tag1   58156 2020-04-06 14:55:10.300\n",
       "86841  Tag1   58157 2020-04-06 14:55:11.300\n",
       "86842  Tag1   58158 2020-04-06 14:55:12.300\n",
       "86843  Tag1   58159 2020-04-06 14:55:13.300\n",
       "\n",
       "[86844 rows x 3 columns]"
      ]
     },
     "execution_count": 216,
     "metadata": {},
     "output_type": "execute_result"
    }
   ],
   "source": [
    "df = df[df['_NAME'].isin(['Tag1'])]\n",
    "df = df.sort_values(by = '_TIMESTAMP', ascending = True)\n",
    "df = df.reset_index()\n",
    "df = df.drop(['index'], axis=1)\n",
    "df"
   ]
  },
  {
   "cell_type": "code",
   "execution_count": 217,
   "metadata": {},
   "outputs": [
    {
     "name": "stdout",
     "output_type": "stream",
     "text": [
      "_NAME : 0 / 86844\n",
      "_VALUE : 0 / 86844\n",
      "_TIMESTAMP : 0 / 86844\n"
     ]
    }
   ],
   "source": [
    "for col in df.columns:\n",
    "    print(col, ':', sum(df[col].isna()), '/', len(df))"
   ]
  },
  {
   "cell_type": "code",
   "execution_count": 218,
   "metadata": {},
   "outputs": [
    {
     "name": "stdout",
     "output_type": "stream",
     "text": [
      "_NAME : 1 / 86844\n",
      "_VALUE : 57633 / 86844\n",
      "_TIMESTAMP : 86844 / 86844\n"
     ]
    }
   ],
   "source": [
    "for col in df.columns:\n",
    "    print(col, ':', len(df[col].value_counts()), '/', len(df))"
   ]
  },
  {
   "cell_type": "code",
   "execution_count": 219,
   "metadata": {},
   "outputs": [
    {
     "data": {
      "text/html": [
       "<div>\n",
       "<style scoped>\n",
       "    .dataframe tbody tr th:only-of-type {\n",
       "        vertical-align: middle;\n",
       "    }\n",
       "\n",
       "    .dataframe tbody tr th {\n",
       "        vertical-align: top;\n",
       "    }\n",
       "\n",
       "    .dataframe thead th {\n",
       "        text-align: right;\n",
       "    }\n",
       "</style>\n",
       "<table border=\"1\" class=\"dataframe\">\n",
       "  <thead>\n",
       "    <tr style=\"text-align: right;\">\n",
       "      <th></th>\n",
       "      <th>_NAME</th>\n",
       "      <th>_VALUE</th>\n",
       "      <th>_TIMESTAMP</th>\n",
       "      <th>diff-value</th>\n",
       "    </tr>\n",
       "  </thead>\n",
       "  <tbody>\n",
       "    <tr>\n",
       "      <td>1</td>\n",
       "      <td>Tag1</td>\n",
       "      <td>62712</td>\n",
       "      <td>2020-04-04 09:35:20.563</td>\n",
       "      <td>1</td>\n",
       "    </tr>\n",
       "    <tr>\n",
       "      <td>2</td>\n",
       "      <td>Tag1</td>\n",
       "      <td>62713</td>\n",
       "      <td>2020-04-04 09:35:21.563</td>\n",
       "      <td>1</td>\n",
       "    </tr>\n",
       "    <tr>\n",
       "      <td>3</td>\n",
       "      <td>Tag1</td>\n",
       "      <td>62714</td>\n",
       "      <td>2020-04-04 09:35:22.563</td>\n",
       "      <td>1</td>\n",
       "    </tr>\n",
       "    <tr>\n",
       "      <td>4</td>\n",
       "      <td>Tag1</td>\n",
       "      <td>62715</td>\n",
       "      <td>2020-04-04 09:35:23.563</td>\n",
       "      <td>1</td>\n",
       "    </tr>\n",
       "    <tr>\n",
       "      <td>5</td>\n",
       "      <td>Tag1</td>\n",
       "      <td>62716</td>\n",
       "      <td>2020-04-04 09:35:24.563</td>\n",
       "      <td>1</td>\n",
       "    </tr>\n",
       "    <tr>\n",
       "      <td>...</td>\n",
       "      <td>...</td>\n",
       "      <td>...</td>\n",
       "      <td>...</td>\n",
       "      <td>...</td>\n",
       "    </tr>\n",
       "    <tr>\n",
       "      <td>86839</td>\n",
       "      <td>Tag1</td>\n",
       "      <td>58155</td>\n",
       "      <td>2020-04-06 14:55:09.300</td>\n",
       "      <td>1</td>\n",
       "    </tr>\n",
       "    <tr>\n",
       "      <td>86840</td>\n",
       "      <td>Tag1</td>\n",
       "      <td>58156</td>\n",
       "      <td>2020-04-06 14:55:10.300</td>\n",
       "      <td>1</td>\n",
       "    </tr>\n",
       "    <tr>\n",
       "      <td>86841</td>\n",
       "      <td>Tag1</td>\n",
       "      <td>58157</td>\n",
       "      <td>2020-04-06 14:55:11.300</td>\n",
       "      <td>1</td>\n",
       "    </tr>\n",
       "    <tr>\n",
       "      <td>86842</td>\n",
       "      <td>Tag1</td>\n",
       "      <td>58158</td>\n",
       "      <td>2020-04-06 14:55:12.300</td>\n",
       "      <td>1</td>\n",
       "    </tr>\n",
       "    <tr>\n",
       "      <td>86843</td>\n",
       "      <td>Tag1</td>\n",
       "      <td>58159</td>\n",
       "      <td>2020-04-06 14:55:13.300</td>\n",
       "      <td>1</td>\n",
       "    </tr>\n",
       "  </tbody>\n",
       "</table>\n",
       "<p>86803 rows × 4 columns</p>\n",
       "</div>"
      ],
      "text/plain": [
       "      _NAME  _VALUE              _TIMESTAMP  diff-value\n",
       "1      Tag1   62712 2020-04-04 09:35:20.563           1\n",
       "2      Tag1   62713 2020-04-04 09:35:21.563           1\n",
       "3      Tag1   62714 2020-04-04 09:35:22.563           1\n",
       "4      Tag1   62715 2020-04-04 09:35:23.563           1\n",
       "5      Tag1   62716 2020-04-04 09:35:24.563           1\n",
       "...     ...     ...                     ...         ...\n",
       "86839  Tag1   58155 2020-04-06 14:55:09.300           1\n",
       "86840  Tag1   58156 2020-04-06 14:55:10.300           1\n",
       "86841  Tag1   58157 2020-04-06 14:55:11.300           1\n",
       "86842  Tag1   58158 2020-04-06 14:55:12.300           1\n",
       "86843  Tag1   58159 2020-04-06 14:55:13.300           1\n",
       "\n",
       "[86803 rows x 4 columns]"
      ]
     },
     "execution_count": 219,
     "metadata": {},
     "output_type": "execute_result"
    }
   ],
   "source": [
    "past = 0\n",
    "diff_list = []\n",
    "chFile_list = []\n",
    "\n",
    "for i in df.index:\n",
    "    row_val = df.loc[i, '_VALUE']\n",
    "    if row_val > past:\n",
    "        val = row_val - past\n",
    "        diff_list.append(val)\n",
    "        past = row_val\n",
    "        if val > 60:\n",
    "            chFile_list.append(i)\n",
    "    else:\n",
    "        val = 0\n",
    "        diff_list.append(val)\n",
    "        past = row_val\n",
    "\n",
    "df[\"diff-value\"] = diff_list\n",
    "# df = df.drop(0,0)\n",
    "\n",
    "for k in chFile_list:\n",
    "    df = df.drop(k, 0)\n",
    "    \n",
    "    \n",
    "df"
   ]
  },
  {
   "cell_type": "code",
   "execution_count": null,
   "metadata": {},
   "outputs": [],
   "source": [
    "g = sns.lineplot(x = df.index, y = df[\"diff-value\"], data = df)\n",
    "plt.suptitle(\"데이터 바차트t\", y=1.02)"
   ]
  },
  {
   "cell_type": "code",
   "execution_count": 221,
   "metadata": {},
   "outputs": [],
   "source": [
    "sample_df = pd.DataFrame(columns = (\"num\", \"diff-value\"))\n",
    "sample_df['diff-value'] = df['diff-value'].value_counts()\n",
    "sample_df['num'] = sample_df.index"
   ]
  },
  {
   "cell_type": "code",
   "execution_count": 222,
   "metadata": {},
   "outputs": [
    {
     "name": "stdout",
     "output_type": "stream",
     "text": [
      "통신 연결성 = 99.14979897008168 %\n"
     ]
    }
   ],
   "source": [
    "# sample_df['diff-value'][1] \n",
    "percent = sample_df['diff-value'][1] / sample_df['diff-value'].sum() * 100\n",
    "print (\"통신 연결성 = \" + percent.astype('str') + \" %\")"
   ]
  },
  {
   "cell_type": "code",
   "execution_count": null,
   "metadata": {},
   "outputs": [],
   "source": [
    "plot = sample_df.plot.pie(y='diff-value', figsize=(12, 12))"
   ]
  },
  {
   "cell_type": "code",
   "execution_count": 224,
   "metadata": {},
   "outputs": [
    {
     "data": {
      "image/png": "[encoded data removed]",
      "text/plain": [
       "<Figure size 720x576 with 1 Axes>"
      ]
     },
     "metadata": {},
     "output_type": "display_data"
    }
   ],
   "source": [
    "\n",
    "sns.set(style=\"whitegrid\")\n",
    "tips = sns.load_dataset(\"tips\")\n",
    "ax = sns.barplot(x=\"num\", y=\"diff-value\", data=sample_df)"
   ]
  },
  {
   "cell_type": "code",
   "execution_count": 225,
   "metadata": {},
   "outputs": [
    {
     "data": {
      "text/plain": [
       "Text(0.5, 1.02, 'LIne Plot')"
      ]
     },
     "execution_count": 225,
     "metadata": {},
     "output_type": "execute_result"
    },
    {
     "data": {
      "image/png": "[encoded data removed]",
      "text/plain": [
       "<Figure size 720x576 with 1 Axes>"
      ]
     },
     "metadata": {},
     "output_type": "display_data"
    }
   ],
   "source": [
    "g = sns.lineplot(x = df.index, y = df[\"_VALUE\"], data = df)\n",
    "plt.suptitle(\"LIne Plot\", y=1.02)"
   ]
  },
  {
   "cell_type": "code",
   "execution_count": 226,
   "metadata": {},
   "outputs": [
    {
     "data": {
      "image/png": "[encoded data removed]",
      "text/plain": [
       "<Figure size 360x360 with 1 Axes>"
      ]
     },
     "metadata": {},
     "output_type": "display_data"
    }
   ],
   "source": [
    "sns.set_style(\"darkgrid\")\n",
    "sns.lmplot(x=\"_VALUE\", y = \"diff-value\", data = df)\n",
    "plt.title(\"Num index lmPlot\")\n",
    "plt.show()"
   ]
  },
  {
   "cell_type": "code",
   "execution_count": 227,
   "metadata": {},
   "outputs": [
    {
     "data": {
      "image/png": "[encoded data removed]",
      "text/plain": [
       "<Figure size 720x576 with 1 Axes>"
      ]
     },
     "metadata": {},
     "output_type": "display_data"
    }
   ],
   "source": [
    "sns.distplot(df[\"diff-value\"])\n",
    "plt.title(\"disPlot\")\n",
    "plt.show()"
   ]
  },
  {
   "cell_type": "code",
   "execution_count": 228,
   "metadata": {},
   "outputs": [
    {
     "data": {
      "image/png": "[encoded data removed]",
      "text/plain": [
       "<Figure size 432x432 with 3 Axes>"
      ]
     },
     "metadata": {},
     "output_type": "display_data"
    }
   ],
   "source": [
    "sns.jointplot(x=\"_VALUE\", y=\"diff-value\", data=df)\n",
    "plt.suptitle(\"Scatter Plot\", y=1.02)\n",
    "plt.show()"
   ]
  },
  {
   "cell_type": "code",
   "execution_count": null,
   "metadata": {},
   "outputs": [],
   "source": [
    "sns.kdeplot(df[\"_VALUE\"], df[\"diff-value\"])\n",
    "plt.title(\"kde plot (Kernel density estimation)\")\n",
    "plt.show()"
   ]
  },
  {
   "cell_type": "code",
   "execution_count": null,
   "metadata": {},
   "outputs": [],
   "source": [
    "sns.jointplot(x=\"_VALUE\", y=\"diff-value\", data=df, kind=\"kde\")\n",
    "plt.suptitle(\"Joint Plot\", y=1.02)\n",
    "plt.show()"
   ]
  },
  {
   "cell_type": "code",
   "execution_count": null,
   "metadata": {},
   "outputs": [],
   "source": [
    "sns.pairplot(df)\n",
    "plt.title(\"Pair Plot\")\n",
    "plt.show()"
   ]
  },
  {
   "cell_type": "code",
   "execution_count": null,
   "metadata": {},
   "outputs": [],
   "source": [
    "sns.pairplot(df, palette=\"hue1\", diag_kind=\"kde\")\n",
    "# sns.pairplot(df, palette=\"hue1\")\n",
    "plt.title(\"data Pair Plot\")\n",
    "plt.show()"
   ]
  },
  {
   "cell_type": "code",
   "execution_count": null,
   "metadata": {},
   "outputs": [],
   "source": []
  },
  {
   "cell_type": "code",
   "execution_count": null,
   "metadata": {},
   "outputs": [],
   "source": []
  },
  {
   "cell_type": "code",
   "execution_count": null,
   "metadata": {},
   "outputs": [],
   "source": []
  },
  {
   "cell_type": "code",
   "execution_count": null,
   "metadata": {},
   "outputs": [],
   "source": []
  },
  {
   "cell_type": "code",
   "execution_count": null,
   "metadata": {},
   "outputs": [],
   "source": []
  },
  {
   "cell_type": "code",
   "execution_count": null,
   "metadata": {},
   "outputs": [],
   "source": []
  },
  {
   "cell_type": "code",
   "execution_count": null,
   "metadata": {},
   "outputs": [],
   "source": []
  },
  {
   "cell_type": "code",
   "execution_count": null,
   "metadata": {},
   "outputs": [],
   "source": []
  }
 ],
 "metadata": {
  "kernelspec": {
   "display_name": "Python 3",
   "language": "python",
   "name": "python3"
  },
  "language_info": {
   "codemirror_mode": {
    "name": "ipython",
    "version": 3
   },
   "file_extension": ".py",
   "mimetype": "text/x-python",
   "name": "python",
   "nbconvert_exporter": "python",
   "pygments_lexer": "ipython3",
   "version": "3.6.9"
  }
 },
 "nbformat": 4,
 "nbformat_minor": 2
}
