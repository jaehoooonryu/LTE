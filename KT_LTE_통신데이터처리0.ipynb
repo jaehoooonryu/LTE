{
 "cells": [
  {
   "cell_type": "code",
   "execution_count": 18,
   "metadata": {},
   "outputs": [],
   "source": [
    "import numpy as np\n",
    "import pandas as pd\n",
    "import pymssql\n",
    "import matplotlib.pyplot as plt"
   ]
  },
  {
   "cell_type": "markdown",
   "metadata": {},
   "source": [
    "$ MSSQL DB Data Import 및 전처리\n",
    "\n"
   ]
  },
  {
   "cell_type": "code",
   "execution_count": 19,
   "metadata": {},
   "outputs": [],
   "source": [
    "conn = pymssql.connect(server='localhost', user='admin', password='qaz123!@#', database='test_kt', as_dict = False, port = 1433)"
   ]
  },
  {
   "cell_type": "code",
   "execution_count": 20,
   "metadata": {},
   "outputs": [],
   "source": [
    "sql_statement = 'SELECT * FROM dbo.test_kt'\n",
    "df = pd.read_sql(sql=sql_statement, con=conn)"
   ]
  },
  {
   "cell_type": "code",
   "execution_count": 4,
   "metadata": {},
   "outputs": [
    {
     "data": {
      "text/plain": [
       "pandas._libs.tslibs.timestamps.Timestamp"
      ]
     },
     "execution_count": 4,
     "metadata": {},
     "output_type": "execute_result"
    }
   ],
   "source": [
    "type(df.iloc[0, 4])"
   ]
  },
  {
   "cell_type": "code",
   "execution_count": 21,
   "metadata": {
    "scrolled": true
   },
   "outputs": [
    {
     "data": {
      "text/html": [
       "<div>\n",
       "<style scoped>\n",
       "    .dataframe tbody tr th:only-of-type {\n",
       "        vertical-align: middle;\n",
       "    }\n",
       "\n",
       "    .dataframe tbody tr th {\n",
       "        vertical-align: top;\n",
       "    }\n",
       "\n",
       "    .dataframe thead th {\n",
       "        text-align: right;\n",
       "    }\n",
       "</style>\n",
       "<table border=\"1\" class=\"dataframe\">\n",
       "  <thead>\n",
       "    <tr style=\"text-align: right;\">\n",
       "      <th></th>\n",
       "      <th>_NAME</th>\n",
       "      <th>_VALUE</th>\n",
       "      <th>_TIMESTAMP</th>\n",
       "    </tr>\n",
       "  </thead>\n",
       "  <tbody>\n",
       "    <tr>\n",
       "      <td>0</td>\n",
       "      <td>Tag1</td>\n",
       "      <td>43264</td>\n",
       "      <td>2020-03-27 14:08:41.237</td>\n",
       "    </tr>\n",
       "    <tr>\n",
       "      <td>140354</td>\n",
       "      <td>Tag1</td>\n",
       "      <td>45252</td>\n",
       "      <td>2020-03-27 14:41:43.257</td>\n",
       "    </tr>\n",
       "    <tr>\n",
       "      <td>4700</td>\n",
       "      <td>Tag1</td>\n",
       "      <td>43380</td>\n",
       "      <td>2020-03-27 14:10:36.237</td>\n",
       "    </tr>\n",
       "    <tr>\n",
       "      <td>140447</td>\n",
       "      <td>Tag1</td>\n",
       "      <td>45253</td>\n",
       "      <td>2020-03-27 14:41:44.257</td>\n",
       "    </tr>\n",
       "    <tr>\n",
       "      <td>37685</td>\n",
       "      <td>Tag1</td>\n",
       "      <td>43846</td>\n",
       "      <td>2020-03-27 14:18:20.237</td>\n",
       "    </tr>\n",
       "    <tr>\n",
       "      <td>...</td>\n",
       "      <td>...</td>\n",
       "      <td>...</td>\n",
       "      <td>...</td>\n",
       "    </tr>\n",
       "    <tr>\n",
       "      <td>98752</td>\n",
       "      <td>Tag99</td>\n",
       "      <td>44642</td>\n",
       "      <td>2020-03-27 14:31:38.257</td>\n",
       "    </tr>\n",
       "    <tr>\n",
       "      <td>10502</td>\n",
       "      <td>Tag99</td>\n",
       "      <td>43434</td>\n",
       "      <td>2020-03-27 14:11:34.253</td>\n",
       "    </tr>\n",
       "    <tr>\n",
       "      <td>227660</td>\n",
       "      <td>Tag99</td>\n",
       "      <td>46433</td>\n",
       "      <td>2020-03-27 15:01:24.273</td>\n",
       "    </tr>\n",
       "    <tr>\n",
       "      <td>227960</td>\n",
       "      <td>Tag99</td>\n",
       "      <td>46436</td>\n",
       "      <td>2020-03-27 15:01:27.273</td>\n",
       "    </tr>\n",
       "    <tr>\n",
       "      <td>261360</td>\n",
       "      <td>Tag99</td>\n",
       "      <td>46899</td>\n",
       "      <td>2020-03-27 15:09:09.277</td>\n",
       "    </tr>\n",
       "  </tbody>\n",
       "</table>\n",
       "<p>261361 rows × 3 columns</p>\n",
       "</div>"
      ],
      "text/plain": [
       "        _NAME  _VALUE              _TIMESTAMP\n",
       "0        Tag1   43264 2020-03-27 14:08:41.237\n",
       "140354   Tag1   45252 2020-03-27 14:41:43.257\n",
       "4700     Tag1   43380 2020-03-27 14:10:36.237\n",
       "140447   Tag1   45253 2020-03-27 14:41:44.257\n",
       "37685    Tag1   43846 2020-03-27 14:18:20.237\n",
       "...       ...     ...                     ...\n",
       "98752   Tag99   44642 2020-03-27 14:31:38.257\n",
       "10502   Tag99   43434 2020-03-27 14:11:34.253\n",
       "227660  Tag99   46433 2020-03-27 15:01:24.273\n",
       "227960  Tag99   46436 2020-03-27 15:01:27.273\n",
       "261360  Tag99   46899 2020-03-27 15:09:09.277\n",
       "\n",
       "[261361 rows x 3 columns]"
      ]
     },
     "execution_count": 21,
     "metadata": {},
     "output_type": "execute_result"
    }
   ],
   "source": [
    "df = df.drop(['_QUALITY', '_NUMERICID', 'id'], axis=1)\n",
    "df['_NAME'] = df['_NAME'].apply(lambda x: x.split('LTE.')[-1])\n",
    "df = df.sort_values(by = '_NAME', ascending = True)\n",
    "from datetime import datetime\n",
    "df['_TIMESTAMP'] = pd.to_datetime(df['_TIMESTAMP'].astype('str'))\n",
    "df['_VALUE'] = df['_VALUE'].astype('str').astype('int64')\n",
    "df"
   ]
  },
  {
   "cell_type": "code",
   "execution_count": 22,
   "metadata": {},
   "outputs": [
    {
     "data": {
      "text/plain": [
       "pandas._libs.tslibs.timestamps.Timestamp"
      ]
     },
     "execution_count": 22,
     "metadata": {},
     "output_type": "execute_result"
    }
   ],
   "source": [
    "type(df.iloc[0, 2])"
   ]
  },
  {
   "cell_type": "markdown",
   "metadata": {},
   "source": [
    "$$ Tag 번호 선택 및 정렬"
   ]
  },
  {
   "cell_type": "code",
   "execution_count": 23,
   "metadata": {},
   "outputs": [
    {
     "data": {
      "text/html": [
       "<div>\n",
       "<style scoped>\n",
       "    .dataframe tbody tr th:only-of-type {\n",
       "        vertical-align: middle;\n",
       "    }\n",
       "\n",
       "    .dataframe tbody tr th {\n",
       "        vertical-align: top;\n",
       "    }\n",
       "\n",
       "    .dataframe thead th {\n",
       "        text-align: right;\n",
       "    }\n",
       "</style>\n",
       "<table border=\"1\" class=\"dataframe\">\n",
       "  <thead>\n",
       "    <tr style=\"text-align: right;\">\n",
       "      <th></th>\n",
       "      <th>_NAME</th>\n",
       "      <th>_VALUE</th>\n",
       "      <th>_TIMESTAMP</th>\n",
       "    </tr>\n",
       "  </thead>\n",
       "  <tbody>\n",
       "    <tr>\n",
       "      <td>0</td>\n",
       "      <td>Tag1</td>\n",
       "      <td>43264</td>\n",
       "      <td>2020-03-27 14:08:41.237</td>\n",
       "    </tr>\n",
       "    <tr>\n",
       "      <td>1</td>\n",
       "      <td>Tag1</td>\n",
       "      <td>43265</td>\n",
       "      <td>2020-03-27 14:08:42.237</td>\n",
       "    </tr>\n",
       "    <tr>\n",
       "      <td>2</td>\n",
       "      <td>Tag1</td>\n",
       "      <td>43266</td>\n",
       "      <td>2020-03-27 14:08:43.237</td>\n",
       "    </tr>\n",
       "    <tr>\n",
       "      <td>3</td>\n",
       "      <td>Tag1</td>\n",
       "      <td>43332</td>\n",
       "      <td>2020-03-27 14:09:48.237</td>\n",
       "    </tr>\n",
       "    <tr>\n",
       "      <td>4</td>\n",
       "      <td>Tag1</td>\n",
       "      <td>43333</td>\n",
       "      <td>2020-03-27 14:09:49.237</td>\n",
       "    </tr>\n",
       "    <tr>\n",
       "      <td>...</td>\n",
       "      <td>...</td>\n",
       "      <td>...</td>\n",
       "      <td>...</td>\n",
       "    </tr>\n",
       "    <tr>\n",
       "      <td>2612</td>\n",
       "      <td>Tag1</td>\n",
       "      <td>46896</td>\n",
       "      <td>2020-03-27 15:09:05.260</td>\n",
       "    </tr>\n",
       "    <tr>\n",
       "      <td>2613</td>\n",
       "      <td>Tag1</td>\n",
       "      <td>46897</td>\n",
       "      <td>2020-03-27 15:09:06.260</td>\n",
       "    </tr>\n",
       "    <tr>\n",
       "      <td>2614</td>\n",
       "      <td>Tag1</td>\n",
       "      <td>46898</td>\n",
       "      <td>2020-03-27 15:09:07.260</td>\n",
       "    </tr>\n",
       "    <tr>\n",
       "      <td>2615</td>\n",
       "      <td>Tag1</td>\n",
       "      <td>46899</td>\n",
       "      <td>2020-03-27 15:09:08.260</td>\n",
       "    </tr>\n",
       "    <tr>\n",
       "      <td>2616</td>\n",
       "      <td>Tag1</td>\n",
       "      <td>46900</td>\n",
       "      <td>2020-03-27 15:09:09.260</td>\n",
       "    </tr>\n",
       "  </tbody>\n",
       "</table>\n",
       "<p>2617 rows × 3 columns</p>\n",
       "</div>"
      ],
      "text/plain": [
       "     _NAME  _VALUE              _TIMESTAMP\n",
       "0     Tag1   43264 2020-03-27 14:08:41.237\n",
       "1     Tag1   43265 2020-03-27 14:08:42.237\n",
       "2     Tag1   43266 2020-03-27 14:08:43.237\n",
       "3     Tag1   43332 2020-03-27 14:09:48.237\n",
       "4     Tag1   43333 2020-03-27 14:09:49.237\n",
       "...    ...     ...                     ...\n",
       "2612  Tag1   46896 2020-03-27 15:09:05.260\n",
       "2613  Tag1   46897 2020-03-27 15:09:06.260\n",
       "2614  Tag1   46898 2020-03-27 15:09:07.260\n",
       "2615  Tag1   46899 2020-03-27 15:09:08.260\n",
       "2616  Tag1   46900 2020-03-27 15:09:09.260\n",
       "\n",
       "[2617 rows x 3 columns]"
      ]
     },
     "execution_count": 23,
     "metadata": {},
     "output_type": "execute_result"
    }
   ],
   "source": [
    "df = df[df['_NAME'].isin(['Tag1'])]\n",
    "df = df.sort_values(by = '_TIMESTAMP', ascending = True)\n",
    "df = df.reset_index()\n",
    "df = df.drop(['index'], axis=1)\n",
    "df"
   ]
  },
  {
   "cell_type": "code",
   "execution_count": 24,
   "metadata": {},
   "outputs": [
    {
     "name": "stdout",
     "output_type": "stream",
     "text": [
      "_NAME : 0 / 2617\n",
      "_VALUE : 0 / 2617\n",
      "_TIMESTAMP : 0 / 2617\n"
     ]
    }
   ],
   "source": [
    "for col in df.columns:\n",
    "    print(col, ':', sum(df[col].isna()), '/', len(df))"
   ]
  },
  {
   "cell_type": "code",
   "execution_count": 25,
   "metadata": {},
   "outputs": [
    {
     "name": "stdout",
     "output_type": "stream",
     "text": [
      "_NAME : 1 / 2617\n",
      "_VALUE : 2617 / 2617\n",
      "_TIMESTAMP : 2617 / 2617\n"
     ]
    }
   ],
   "source": [
    "for col in df.columns:\n",
    "    print(col, ':', len(df[col].value_counts()), '/', len(df))"
   ]
  },
  {
   "cell_type": "code",
   "execution_count": 26,
   "metadata": {},
   "outputs": [
    {
     "data": {
      "text/html": [
       "<div>\n",
       "<style scoped>\n",
       "    .dataframe tbody tr th:only-of-type {\n",
       "        vertical-align: middle;\n",
       "    }\n",
       "\n",
       "    .dataframe tbody tr th {\n",
       "        vertical-align: top;\n",
       "    }\n",
       "\n",
       "    .dataframe thead th {\n",
       "        text-align: right;\n",
       "    }\n",
       "</style>\n",
       "<table border=\"1\" class=\"dataframe\">\n",
       "  <thead>\n",
       "    <tr style=\"text-align: right;\">\n",
       "      <th></th>\n",
       "      <th>_NAME</th>\n",
       "      <th>_VALUE</th>\n",
       "      <th>_TIMESTAMP</th>\n",
       "    </tr>\n",
       "  </thead>\n",
       "  <tbody>\n",
       "    <tr>\n",
       "      <td>0</td>\n",
       "      <td>Tag1</td>\n",
       "      <td>1</td>\n",
       "      <td>2020-03-27 14:08:41.237</td>\n",
       "    </tr>\n",
       "    <tr>\n",
       "      <td>1</td>\n",
       "      <td>Tag1</td>\n",
       "      <td>2</td>\n",
       "      <td>2020-03-27 14:08:42.237</td>\n",
       "    </tr>\n",
       "    <tr>\n",
       "      <td>2</td>\n",
       "      <td>Tag1</td>\n",
       "      <td>3</td>\n",
       "      <td>2020-03-27 14:08:43.237</td>\n",
       "    </tr>\n",
       "    <tr>\n",
       "      <td>3</td>\n",
       "      <td>Tag1</td>\n",
       "      <td>69</td>\n",
       "      <td>2020-03-27 14:09:48.237</td>\n",
       "    </tr>\n",
       "    <tr>\n",
       "      <td>4</td>\n",
       "      <td>Tag1</td>\n",
       "      <td>70</td>\n",
       "      <td>2020-03-27 14:09:49.237</td>\n",
       "    </tr>\n",
       "    <tr>\n",
       "      <td>...</td>\n",
       "      <td>...</td>\n",
       "      <td>...</td>\n",
       "      <td>...</td>\n",
       "    </tr>\n",
       "    <tr>\n",
       "      <td>2612</td>\n",
       "      <td>Tag1</td>\n",
       "      <td>3633</td>\n",
       "      <td>2020-03-27 15:09:05.260</td>\n",
       "    </tr>\n",
       "    <tr>\n",
       "      <td>2613</td>\n",
       "      <td>Tag1</td>\n",
       "      <td>3634</td>\n",
       "      <td>2020-03-27 15:09:06.260</td>\n",
       "    </tr>\n",
       "    <tr>\n",
       "      <td>2614</td>\n",
       "      <td>Tag1</td>\n",
       "      <td>3635</td>\n",
       "      <td>2020-03-27 15:09:07.260</td>\n",
       "    </tr>\n",
       "    <tr>\n",
       "      <td>2615</td>\n",
       "      <td>Tag1</td>\n",
       "      <td>3636</td>\n",
       "      <td>2020-03-27 15:09:08.260</td>\n",
       "    </tr>\n",
       "    <tr>\n",
       "      <td>2616</td>\n",
       "      <td>Tag1</td>\n",
       "      <td>3637</td>\n",
       "      <td>2020-03-27 15:09:09.260</td>\n",
       "    </tr>\n",
       "  </tbody>\n",
       "</table>\n",
       "<p>2617 rows × 3 columns</p>\n",
       "</div>"
      ],
      "text/plain": [
       "     _NAME  _VALUE              _TIMESTAMP\n",
       "0     Tag1       1 2020-03-27 14:08:41.237\n",
       "1     Tag1       2 2020-03-27 14:08:42.237\n",
       "2     Tag1       3 2020-03-27 14:08:43.237\n",
       "3     Tag1      69 2020-03-27 14:09:48.237\n",
       "4     Tag1      70 2020-03-27 14:09:49.237\n",
       "...    ...     ...                     ...\n",
       "2612  Tag1    3633 2020-03-27 15:09:05.260\n",
       "2613  Tag1    3634 2020-03-27 15:09:06.260\n",
       "2614  Tag1    3635 2020-03-27 15:09:07.260\n",
       "2615  Tag1    3636 2020-03-27 15:09:08.260\n",
       "2616  Tag1    3637 2020-03-27 15:09:09.260\n",
       "\n",
       "[2617 rows x 3 columns]"
      ]
     },
     "execution_count": 26,
     "metadata": {},
     "output_type": "execute_result"
    }
   ],
   "source": [
    "df['_VALUE'] = df['_VALUE'].apply(lambda x: x - (df['_VALUE'][0]-1))\n",
    "df"
   ]
  },
  {
   "cell_type": "code",
   "execution_count": 27,
   "metadata": {},
   "outputs": [
    {
     "data": {
      "text/plain": [
       "1020"
      ]
     },
     "execution_count": 27,
     "metadata": {},
     "output_type": "execute_result"
    }
   ],
   "source": [
    "end = len(df)-1\n",
    "df.iloc[end, 1] - len(df)"
   ]
  },
  {
   "cell_type": "code",
   "execution_count": 28,
   "metadata": {
    "scrolled": true
   },
   "outputs": [
    {
     "data": {
      "text/plain": [
       "Timestamp('2020-03-27 14:08:41.237000')"
      ]
     },
     "execution_count": 28,
     "metadata": {},
     "output_type": "execute_result"
    }
   ],
   "source": [
    "df.iloc[0, 2]"
   ]
  },
  {
   "cell_type": "markdown",
   "metadata": {},
   "source": [
    "$$$ Value (1씩 증가) 확인 / 통신 시간 확인"
   ]
  },
  {
   "cell_type": "code",
   "execution_count": 29,
   "metadata": {
    "scrolled": true
   },
   "outputs": [
    {
     "data": {
      "text/html": [
       "<div>\n",
       "<style scoped>\n",
       "    .dataframe tbody tr th:only-of-type {\n",
       "        vertical-align: middle;\n",
       "    }\n",
       "\n",
       "    .dataframe tbody tr th {\n",
       "        vertical-align: top;\n",
       "    }\n",
       "\n",
       "    .dataframe thead th {\n",
       "        text-align: right;\n",
       "    }\n",
       "</style>\n",
       "<table border=\"1\" class=\"dataframe\">\n",
       "  <thead>\n",
       "    <tr style=\"text-align: right;\">\n",
       "      <th></th>\n",
       "      <th>_NAME</th>\n",
       "      <th>_VALUE</th>\n",
       "      <th>_TIMESTAMP</th>\n",
       "      <th>diff-value</th>\n",
       "      <th>diff-Time</th>\n",
       "    </tr>\n",
       "  </thead>\n",
       "  <tbody>\n",
       "    <tr>\n",
       "      <td>0</td>\n",
       "      <td>Tag1</td>\n",
       "      <td>1</td>\n",
       "      <td>2020-03-27 14:08:41.237</td>\n",
       "      <td>1</td>\n",
       "      <td>00:00:00</td>\n",
       "    </tr>\n",
       "    <tr>\n",
       "      <td>1</td>\n",
       "      <td>Tag1</td>\n",
       "      <td>2</td>\n",
       "      <td>2020-03-27 14:08:42.237</td>\n",
       "      <td>1</td>\n",
       "      <td>00:00:01</td>\n",
       "    </tr>\n",
       "    <tr>\n",
       "      <td>2</td>\n",
       "      <td>Tag1</td>\n",
       "      <td>3</td>\n",
       "      <td>2020-03-27 14:08:43.237</td>\n",
       "      <td>1</td>\n",
       "      <td>00:00:01</td>\n",
       "    </tr>\n",
       "    <tr>\n",
       "      <td>3</td>\n",
       "      <td>Tag1</td>\n",
       "      <td>69</td>\n",
       "      <td>2020-03-27 14:09:48.237</td>\n",
       "      <td>66</td>\n",
       "      <td>00:01:05</td>\n",
       "    </tr>\n",
       "    <tr>\n",
       "      <td>4</td>\n",
       "      <td>Tag1</td>\n",
       "      <td>70</td>\n",
       "      <td>2020-03-27 14:09:49.237</td>\n",
       "      <td>1</td>\n",
       "      <td>00:00:01</td>\n",
       "    </tr>\n",
       "    <tr>\n",
       "      <td>...</td>\n",
       "      <td>...</td>\n",
       "      <td>...</td>\n",
       "      <td>...</td>\n",
       "      <td>...</td>\n",
       "      <td>...</td>\n",
       "    </tr>\n",
       "    <tr>\n",
       "      <td>2612</td>\n",
       "      <td>Tag1</td>\n",
       "      <td>3633</td>\n",
       "      <td>2020-03-27 15:09:05.260</td>\n",
       "      <td>1</td>\n",
       "      <td>00:00:01</td>\n",
       "    </tr>\n",
       "    <tr>\n",
       "      <td>2613</td>\n",
       "      <td>Tag1</td>\n",
       "      <td>3634</td>\n",
       "      <td>2020-03-27 15:09:06.260</td>\n",
       "      <td>1</td>\n",
       "      <td>00:00:01</td>\n",
       "    </tr>\n",
       "    <tr>\n",
       "      <td>2614</td>\n",
       "      <td>Tag1</td>\n",
       "      <td>3635</td>\n",
       "      <td>2020-03-27 15:09:07.260</td>\n",
       "      <td>1</td>\n",
       "      <td>00:00:01</td>\n",
       "    </tr>\n",
       "    <tr>\n",
       "      <td>2615</td>\n",
       "      <td>Tag1</td>\n",
       "      <td>3636</td>\n",
       "      <td>2020-03-27 15:09:08.260</td>\n",
       "      <td>1</td>\n",
       "      <td>00:00:01</td>\n",
       "    </tr>\n",
       "    <tr>\n",
       "      <td>2616</td>\n",
       "      <td>Tag1</td>\n",
       "      <td>3637</td>\n",
       "      <td>2020-03-27 15:09:09.260</td>\n",
       "      <td>1</td>\n",
       "      <td>00:00:01</td>\n",
       "    </tr>\n",
       "  </tbody>\n",
       "</table>\n",
       "<p>2617 rows × 5 columns</p>\n",
       "</div>"
      ],
      "text/plain": [
       "     _NAME  _VALUE              _TIMESTAMP  diff-value diff-Time\n",
       "0     Tag1       1 2020-03-27 14:08:41.237           1  00:00:00\n",
       "1     Tag1       2 2020-03-27 14:08:42.237           1  00:00:01\n",
       "2     Tag1       3 2020-03-27 14:08:43.237           1  00:00:01\n",
       "3     Tag1      69 2020-03-27 14:09:48.237          66  00:01:05\n",
       "4     Tag1      70 2020-03-27 14:09:49.237           1  00:00:01\n",
       "...    ...     ...                     ...         ...       ...\n",
       "2612  Tag1    3633 2020-03-27 15:09:05.260           1  00:00:01\n",
       "2613  Tag1    3634 2020-03-27 15:09:06.260           1  00:00:01\n",
       "2614  Tag1    3635 2020-03-27 15:09:07.260           1  00:00:01\n",
       "2615  Tag1    3636 2020-03-27 15:09:08.260           1  00:00:01\n",
       "2616  Tag1    3637 2020-03-27 15:09:09.260           1  00:00:01\n",
       "\n",
       "[2617 rows x 5 columns]"
      ]
     },
     "execution_count": 29,
     "metadata": {},
     "output_type": "execute_result"
    }
   ],
   "source": [
    "#pd.set_option('display.max_rows', -1)\n",
    "pastTime = df.iloc[0,2]\n",
    "past = 0\n",
    "diff_list = []\n",
    "diffTime_list =[]\n",
    "df_sample = pd.DataFrame(columns = (\"Num Index\",\"Over1 Val\", \"To be Seq. Num\", \"Now Val\", \"Past Time\", \"Now Time\", \"Diff-1-Over\"))\n",
    "\n",
    "for i in df.index:\n",
    "    row_val = df.loc[i, '_VALUE']\n",
    "    val = row_val - past\n",
    "    diff_list.append(val)\n",
    "    \n",
    "    if val > 1:\n",
    "        diff_1over = df.loc[i, '_TIMESTAMP'] - df.loc[i-1, '_TIMESTAMP']\n",
    "        addrow = [i, val, past + 1, row_val, df.loc[i-1, '_TIMESTAMP'], df.loc[i, '_TIMESTAMP'], diff_1over]\n",
    "        df_sample.loc[len(df_sample)] = addrow\n",
    "        \n",
    "    past = row_val\n",
    "    \n",
    "    row_time = df.loc[i, '_TIMESTAMP']\n",
    "    valTime = row_time - pastTime\n",
    "    diffTime_list.append(valTime)\n",
    "    \n",
    "    pastTime = row_time\n",
    "    \n",
    "df[\"diff-value\"] = diff_list\n",
    "df[\"diff-Time\"] = diffTime_list\n",
    "# df[\"diff-Time\"] = pd.to_datetime(df['diff-Time'])\n",
    "# df[\"diff-Time\"] = (df[\"diff-Time\"].dt.microsecond)/1000\n",
    "# df['diff-value'].unique()\n",
    "df"
   ]
  },
  {
   "cell_type": "markdown",
   "metadata": {},
   "source": [
    "$$$$ Value 1 이상인 값(=지연)이 얼마나 나타나는지 확인"
   ]
  },
  {
   "cell_type": "code",
   "execution_count": 30,
   "metadata": {
    "scrolled": true
   },
   "outputs": [
    {
     "data": {
      "text/html": [
       "<div>\n",
       "<style scoped>\n",
       "    .dataframe tbody tr th:only-of-type {\n",
       "        vertical-align: middle;\n",
       "    }\n",
       "\n",
       "    .dataframe tbody tr th {\n",
       "        vertical-align: top;\n",
       "    }\n",
       "\n",
       "    .dataframe thead th {\n",
       "        text-align: right;\n",
       "    }\n",
       "</style>\n",
       "<table border=\"1\" class=\"dataframe\">\n",
       "  <thead>\n",
       "    <tr style=\"text-align: right;\">\n",
       "      <th></th>\n",
       "      <th>Num Index</th>\n",
       "      <th>Over1 Val</th>\n",
       "      <th>To be Seq. Num</th>\n",
       "      <th>Now Val</th>\n",
       "      <th>Past Time</th>\n",
       "      <th>Now Time</th>\n",
       "      <th>Diff-1-Over</th>\n",
       "    </tr>\n",
       "  </thead>\n",
       "  <tbody>\n",
       "    <tr>\n",
       "      <td>0</td>\n",
       "      <td>3</td>\n",
       "      <td>66</td>\n",
       "      <td>4</td>\n",
       "      <td>69</td>\n",
       "      <td>2020-03-27 14:08:43.237</td>\n",
       "      <td>2020-03-27 14:09:48.237</td>\n",
       "      <td>00:01:05</td>\n",
       "    </tr>\n",
       "    <tr>\n",
       "      <td>1</td>\n",
       "      <td>8</td>\n",
       "      <td>2</td>\n",
       "      <td>74</td>\n",
       "      <td>75</td>\n",
       "      <td>2020-03-27 14:09:52.237</td>\n",
       "      <td>2020-03-27 14:09:54.237</td>\n",
       "      <td>00:00:02</td>\n",
       "    </tr>\n",
       "    <tr>\n",
       "      <td>2</td>\n",
       "      <td>9</td>\n",
       "      <td>4</td>\n",
       "      <td>76</td>\n",
       "      <td>79</td>\n",
       "      <td>2020-03-27 14:09:54.237</td>\n",
       "      <td>2020-03-27 14:09:58.237</td>\n",
       "      <td>00:00:04</td>\n",
       "    </tr>\n",
       "    <tr>\n",
       "      <td>3</td>\n",
       "      <td>164</td>\n",
       "      <td>66</td>\n",
       "      <td>234</td>\n",
       "      <td>299</td>\n",
       "      <td>2020-03-27 14:12:32.237</td>\n",
       "      <td>2020-03-27 14:13:37.237</td>\n",
       "      <td>00:01:05</td>\n",
       "    </tr>\n",
       "    <tr>\n",
       "      <td>4</td>\n",
       "      <td>170</td>\n",
       "      <td>2</td>\n",
       "      <td>305</td>\n",
       "      <td>306</td>\n",
       "      <td>2020-03-27 14:13:42.237</td>\n",
       "      <td>2020-03-27 14:13:44.237</td>\n",
       "      <td>00:00:02</td>\n",
       "    </tr>\n",
       "    <tr>\n",
       "      <td>5</td>\n",
       "      <td>171</td>\n",
       "      <td>3</td>\n",
       "      <td>307</td>\n",
       "      <td>309</td>\n",
       "      <td>2020-03-27 14:13:44.237</td>\n",
       "      <td>2020-03-27 14:13:47.237</td>\n",
       "      <td>00:00:03</td>\n",
       "    </tr>\n",
       "    <tr>\n",
       "      <td>6</td>\n",
       "      <td>328</td>\n",
       "      <td>65</td>\n",
       "      <td>466</td>\n",
       "      <td>530</td>\n",
       "      <td>2020-03-27 14:16:23.237</td>\n",
       "      <td>2020-03-27 14:17:27.457</td>\n",
       "      <td>00:01:04.220000</td>\n",
       "    </tr>\n",
       "    <tr>\n",
       "      <td>7</td>\n",
       "      <td>333</td>\n",
       "      <td>2</td>\n",
       "      <td>535</td>\n",
       "      <td>536</td>\n",
       "      <td>2020-03-27 14:17:31.237</td>\n",
       "      <td>2020-03-27 14:17:33.237</td>\n",
       "      <td>00:00:02</td>\n",
       "    </tr>\n",
       "    <tr>\n",
       "      <td>8</td>\n",
       "      <td>334</td>\n",
       "      <td>4</td>\n",
       "      <td>537</td>\n",
       "      <td>540</td>\n",
       "      <td>2020-03-27 14:17:33.237</td>\n",
       "      <td>2020-03-27 14:17:37.237</td>\n",
       "      <td>00:00:04</td>\n",
       "    </tr>\n",
       "    <tr>\n",
       "      <td>9</td>\n",
       "      <td>493</td>\n",
       "      <td>67</td>\n",
       "      <td>699</td>\n",
       "      <td>765</td>\n",
       "      <td>2020-03-27 14:20:15.237</td>\n",
       "      <td>2020-03-27 14:21:21.237</td>\n",
       "      <td>00:01:06</td>\n",
       "    </tr>\n",
       "    <tr>\n",
       "      <td>10</td>\n",
       "      <td>500</td>\n",
       "      <td>2</td>\n",
       "      <td>772</td>\n",
       "      <td>773</td>\n",
       "      <td>2020-03-27 14:21:27.237</td>\n",
       "      <td>2020-03-27 14:21:29.237</td>\n",
       "      <td>00:00:02</td>\n",
       "    </tr>\n",
       "    <tr>\n",
       "      <td>11</td>\n",
       "      <td>501</td>\n",
       "      <td>3</td>\n",
       "      <td>774</td>\n",
       "      <td>776</td>\n",
       "      <td>2020-03-27 14:21:29.237</td>\n",
       "      <td>2020-03-27 14:21:32.237</td>\n",
       "      <td>00:00:03</td>\n",
       "    </tr>\n",
       "    <tr>\n",
       "      <td>12</td>\n",
       "      <td>654</td>\n",
       "      <td>2</td>\n",
       "      <td>929</td>\n",
       "      <td>930</td>\n",
       "      <td>2020-03-27 14:24:04.237</td>\n",
       "      <td>2020-03-27 14:24:06.237</td>\n",
       "      <td>00:00:02</td>\n",
       "    </tr>\n",
       "    <tr>\n",
       "      <td>13</td>\n",
       "      <td>656</td>\n",
       "      <td>59</td>\n",
       "      <td>932</td>\n",
       "      <td>990</td>\n",
       "      <td>2020-03-27 14:24:07.237</td>\n",
       "      <td>2020-03-27 14:25:06.237</td>\n",
       "      <td>00:00:59</td>\n",
       "    </tr>\n",
       "    <tr>\n",
       "      <td>14</td>\n",
       "      <td>663</td>\n",
       "      <td>2</td>\n",
       "      <td>997</td>\n",
       "      <td>998</td>\n",
       "      <td>2020-03-27 14:25:12.237</td>\n",
       "      <td>2020-03-27 14:25:14.237</td>\n",
       "      <td>00:00:02</td>\n",
       "    </tr>\n",
       "    <tr>\n",
       "      <td>15</td>\n",
       "      <td>665</td>\n",
       "      <td>3</td>\n",
       "      <td>1000</td>\n",
       "      <td>1002</td>\n",
       "      <td>2020-03-27 14:25:15.237</td>\n",
       "      <td>2020-03-27 14:25:18.237</td>\n",
       "      <td>00:00:03</td>\n",
       "    </tr>\n",
       "    <tr>\n",
       "      <td>16</td>\n",
       "      <td>825</td>\n",
       "      <td>55</td>\n",
       "      <td>1162</td>\n",
       "      <td>1216</td>\n",
       "      <td>2020-03-27 14:27:57.240</td>\n",
       "      <td>2020-03-27 14:28:52.240</td>\n",
       "      <td>00:00:55</td>\n",
       "    </tr>\n",
       "    <tr>\n",
       "      <td>17</td>\n",
       "      <td>839</td>\n",
       "      <td>2</td>\n",
       "      <td>1230</td>\n",
       "      <td>1231</td>\n",
       "      <td>2020-03-27 14:29:05.240</td>\n",
       "      <td>2020-03-27 14:29:07.240</td>\n",
       "      <td>00:00:02</td>\n",
       "    </tr>\n",
       "    <tr>\n",
       "      <td>18</td>\n",
       "      <td>841</td>\n",
       "      <td>3</td>\n",
       "      <td>1233</td>\n",
       "      <td>1235</td>\n",
       "      <td>2020-03-27 14:29:08.240</td>\n",
       "      <td>2020-03-27 14:29:11.240</td>\n",
       "      <td>00:00:03</td>\n",
       "    </tr>\n",
       "    <tr>\n",
       "      <td>19</td>\n",
       "      <td>995</td>\n",
       "      <td>2</td>\n",
       "      <td>1389</td>\n",
       "      <td>1390</td>\n",
       "      <td>2020-03-27 14:31:44.240</td>\n",
       "      <td>2020-03-27 14:31:46.240</td>\n",
       "      <td>00:00:02</td>\n",
       "    </tr>\n",
       "    <tr>\n",
       "      <td>20</td>\n",
       "      <td>996</td>\n",
       "      <td>60</td>\n",
       "      <td>1391</td>\n",
       "      <td>1450</td>\n",
       "      <td>2020-03-27 14:31:46.240</td>\n",
       "      <td>2020-03-27 14:32:46.240</td>\n",
       "      <td>00:01:00</td>\n",
       "    </tr>\n",
       "    <tr>\n",
       "      <td>21</td>\n",
       "      <td>1006</td>\n",
       "      <td>3</td>\n",
       "      <td>1460</td>\n",
       "      <td>1462</td>\n",
       "      <td>2020-03-27 14:32:55.240</td>\n",
       "      <td>2020-03-27 14:32:58.240</td>\n",
       "      <td>00:00:03</td>\n",
       "    </tr>\n",
       "    <tr>\n",
       "      <td>22</td>\n",
       "      <td>1161</td>\n",
       "      <td>66</td>\n",
       "      <td>1617</td>\n",
       "      <td>1682</td>\n",
       "      <td>2020-03-27 14:35:32.240</td>\n",
       "      <td>2020-03-27 14:36:37.257</td>\n",
       "      <td>00:01:05.017000</td>\n",
       "    </tr>\n",
       "    <tr>\n",
       "      <td>23</td>\n",
       "      <td>1165</td>\n",
       "      <td>2</td>\n",
       "      <td>1686</td>\n",
       "      <td>1687</td>\n",
       "      <td>2020-03-27 14:36:40.257</td>\n",
       "      <td>2020-03-27 14:36:42.257</td>\n",
       "      <td>00:00:02</td>\n",
       "    </tr>\n",
       "    <tr>\n",
       "      <td>24</td>\n",
       "      <td>1167</td>\n",
       "      <td>3</td>\n",
       "      <td>1689</td>\n",
       "      <td>1691</td>\n",
       "      <td>2020-03-27 14:36:43.257</td>\n",
       "      <td>2020-03-27 14:36:46.257</td>\n",
       "      <td>00:00:03</td>\n",
       "    </tr>\n",
       "    <tr>\n",
       "      <td>25</td>\n",
       "      <td>1323</td>\n",
       "      <td>2</td>\n",
       "      <td>1847</td>\n",
       "      <td>1848</td>\n",
       "      <td>2020-03-27 14:39:21.257</td>\n",
       "      <td>2020-03-27 14:39:23.257</td>\n",
       "      <td>00:00:02</td>\n",
       "    </tr>\n",
       "    <tr>\n",
       "      <td>26</td>\n",
       "      <td>1325</td>\n",
       "      <td>56</td>\n",
       "      <td>1850</td>\n",
       "      <td>1905</td>\n",
       "      <td>2020-03-27 14:39:24.257</td>\n",
       "      <td>2020-03-27 14:40:20.257</td>\n",
       "      <td>00:00:56</td>\n",
       "    </tr>\n",
       "    <tr>\n",
       "      <td>27</td>\n",
       "      <td>1334</td>\n",
       "      <td>2</td>\n",
       "      <td>1914</td>\n",
       "      <td>1915</td>\n",
       "      <td>2020-03-27 14:40:28.257</td>\n",
       "      <td>2020-03-27 14:40:30.257</td>\n",
       "      <td>00:00:02</td>\n",
       "    </tr>\n",
       "    <tr>\n",
       "      <td>28</td>\n",
       "      <td>1336</td>\n",
       "      <td>3</td>\n",
       "      <td>1917</td>\n",
       "      <td>1919</td>\n",
       "      <td>2020-03-27 14:40:31.257</td>\n",
       "      <td>2020-03-27 14:40:34.257</td>\n",
       "      <td>00:00:03</td>\n",
       "    </tr>\n",
       "    <tr>\n",
       "      <td>29</td>\n",
       "      <td>1378</td>\n",
       "      <td>2</td>\n",
       "      <td>1961</td>\n",
       "      <td>1962</td>\n",
       "      <td>2020-03-27 14:41:15.257</td>\n",
       "      <td>2020-03-27 14:41:16.727</td>\n",
       "      <td>00:00:01.470000</td>\n",
       "    </tr>\n",
       "    <tr>\n",
       "      <td>30</td>\n",
       "      <td>1494</td>\n",
       "      <td>2</td>\n",
       "      <td>2078</td>\n",
       "      <td>2079</td>\n",
       "      <td>2020-03-27 14:43:11.257</td>\n",
       "      <td>2020-03-27 14:43:13.257</td>\n",
       "      <td>00:00:02</td>\n",
       "    </tr>\n",
       "    <tr>\n",
       "      <td>31</td>\n",
       "      <td>1495</td>\n",
       "      <td>60</td>\n",
       "      <td>2080</td>\n",
       "      <td>2139</td>\n",
       "      <td>2020-03-27 14:43:13.257</td>\n",
       "      <td>2020-03-27 14:44:13.257</td>\n",
       "      <td>00:01:00</td>\n",
       "    </tr>\n",
       "    <tr>\n",
       "      <td>32</td>\n",
       "      <td>1500</td>\n",
       "      <td>2</td>\n",
       "      <td>2144</td>\n",
       "      <td>2145</td>\n",
       "      <td>2020-03-27 14:44:17.257</td>\n",
       "      <td>2020-03-27 14:44:19.257</td>\n",
       "      <td>00:00:02</td>\n",
       "    </tr>\n",
       "    <tr>\n",
       "      <td>33</td>\n",
       "      <td>1501</td>\n",
       "      <td>4</td>\n",
       "      <td>2146</td>\n",
       "      <td>2149</td>\n",
       "      <td>2020-03-27 14:44:19.257</td>\n",
       "      <td>2020-03-27 14:44:23.257</td>\n",
       "      <td>00:00:04</td>\n",
       "    </tr>\n",
       "    <tr>\n",
       "      <td>34</td>\n",
       "      <td>1660</td>\n",
       "      <td>2</td>\n",
       "      <td>2308</td>\n",
       "      <td>2309</td>\n",
       "      <td>2020-03-27 14:47:01.257</td>\n",
       "      <td>2020-03-27 14:47:03.257</td>\n",
       "      <td>00:00:02</td>\n",
       "    </tr>\n",
       "    <tr>\n",
       "      <td>35</td>\n",
       "      <td>1661</td>\n",
       "      <td>53</td>\n",
       "      <td>2310</td>\n",
       "      <td>2362</td>\n",
       "      <td>2020-03-27 14:47:03.257</td>\n",
       "      <td>2020-03-27 14:47:56.257</td>\n",
       "      <td>00:00:53</td>\n",
       "    </tr>\n",
       "    <tr>\n",
       "      <td>36</td>\n",
       "      <td>1680</td>\n",
       "      <td>4</td>\n",
       "      <td>2381</td>\n",
       "      <td>2384</td>\n",
       "      <td>2020-03-27 14:48:14.257</td>\n",
       "      <td>2020-03-27 14:48:18.257</td>\n",
       "      <td>00:00:04</td>\n",
       "    </tr>\n",
       "    <tr>\n",
       "      <td>37</td>\n",
       "      <td>1834</td>\n",
       "      <td>55</td>\n",
       "      <td>2538</td>\n",
       "      <td>2592</td>\n",
       "      <td>2020-03-27 14:50:51.257</td>\n",
       "      <td>2020-03-27 14:51:46.257</td>\n",
       "      <td>00:00:55</td>\n",
       "    </tr>\n",
       "    <tr>\n",
       "      <td>38</td>\n",
       "      <td>1849</td>\n",
       "      <td>3</td>\n",
       "      <td>2607</td>\n",
       "      <td>2609</td>\n",
       "      <td>2020-03-27 14:52:00.257</td>\n",
       "      <td>2020-03-27 14:52:03.257</td>\n",
       "      <td>00:00:03</td>\n",
       "    </tr>\n",
       "    <tr>\n",
       "      <td>39</td>\n",
       "      <td>2005</td>\n",
       "      <td>2</td>\n",
       "      <td>2765</td>\n",
       "      <td>2766</td>\n",
       "      <td>2020-03-27 14:54:38.257</td>\n",
       "      <td>2020-03-27 14:54:40.257</td>\n",
       "      <td>00:00:02</td>\n",
       "    </tr>\n",
       "    <tr>\n",
       "      <td>40</td>\n",
       "      <td>2007</td>\n",
       "      <td>60</td>\n",
       "      <td>2768</td>\n",
       "      <td>2827</td>\n",
       "      <td>2020-03-27 14:54:41.257</td>\n",
       "      <td>2020-03-27 14:55:41.257</td>\n",
       "      <td>00:01:00</td>\n",
       "    </tr>\n",
       "    <tr>\n",
       "      <td>41</td>\n",
       "      <td>2017</td>\n",
       "      <td>4</td>\n",
       "      <td>2837</td>\n",
       "      <td>2840</td>\n",
       "      <td>2020-03-27 14:55:50.257</td>\n",
       "      <td>2020-03-27 14:55:54.257</td>\n",
       "      <td>00:00:04</td>\n",
       "    </tr>\n",
       "    <tr>\n",
       "      <td>42</td>\n",
       "      <td>2172</td>\n",
       "      <td>66</td>\n",
       "      <td>2995</td>\n",
       "      <td>3060</td>\n",
       "      <td>2020-03-27 14:58:28.257</td>\n",
       "      <td>2020-03-27 14:59:33.257</td>\n",
       "      <td>00:01:05</td>\n",
       "    </tr>\n",
       "    <tr>\n",
       "      <td>43</td>\n",
       "      <td>2175</td>\n",
       "      <td>2</td>\n",
       "      <td>3063</td>\n",
       "      <td>3064</td>\n",
       "      <td>2020-03-27 14:59:35.257</td>\n",
       "      <td>2020-03-27 14:59:37.257</td>\n",
       "      <td>00:00:02</td>\n",
       "    </tr>\n",
       "    <tr>\n",
       "      <td>44</td>\n",
       "      <td>2176</td>\n",
       "      <td>4</td>\n",
       "      <td>3065</td>\n",
       "      <td>3068</td>\n",
       "      <td>2020-03-27 14:59:37.257</td>\n",
       "      <td>2020-03-27 14:59:41.257</td>\n",
       "      <td>00:00:04</td>\n",
       "    </tr>\n",
       "    <tr>\n",
       "      <td>45</td>\n",
       "      <td>2297</td>\n",
       "      <td>58</td>\n",
       "      <td>3189</td>\n",
       "      <td>3246</td>\n",
       "      <td>2020-03-27 15:01:41.257</td>\n",
       "      <td>2020-03-27 15:02:39.257</td>\n",
       "      <td>00:00:58</td>\n",
       "    </tr>\n",
       "    <tr>\n",
       "      <td>46</td>\n",
       "      <td>2306</td>\n",
       "      <td>2</td>\n",
       "      <td>3255</td>\n",
       "      <td>3256</td>\n",
       "      <td>2020-03-27 15:02:47.257</td>\n",
       "      <td>2020-03-27 15:02:49.257</td>\n",
       "      <td>00:00:02</td>\n",
       "    </tr>\n",
       "    <tr>\n",
       "      <td>47</td>\n",
       "      <td>2308</td>\n",
       "      <td>3</td>\n",
       "      <td>3258</td>\n",
       "      <td>3260</td>\n",
       "      <td>2020-03-27 15:02:50.257</td>\n",
       "      <td>2020-03-27 15:02:53.257</td>\n",
       "      <td>00:00:03</td>\n",
       "    </tr>\n",
       "    <tr>\n",
       "      <td>48</td>\n",
       "      <td>2370</td>\n",
       "      <td>70</td>\n",
       "      <td>3322</td>\n",
       "      <td>3391</td>\n",
       "      <td>2020-03-27 15:03:54.257</td>\n",
       "      <td>2020-03-27 15:05:03.257</td>\n",
       "      <td>00:01:09</td>\n",
       "    </tr>\n",
       "  </tbody>\n",
       "</table>\n",
       "</div>"
      ],
      "text/plain": [
       "   Num Index Over1 Val To be Seq. Num Now Val               Past Time  \\\n",
       "0          3        66              4      69 2020-03-27 14:08:43.237   \n",
       "1          8         2             74      75 2020-03-27 14:09:52.237   \n",
       "2          9         4             76      79 2020-03-27 14:09:54.237   \n",
       "3        164        66            234     299 2020-03-27 14:12:32.237   \n",
       "4        170         2            305     306 2020-03-27 14:13:42.237   \n",
       "5        171         3            307     309 2020-03-27 14:13:44.237   \n",
       "6        328        65            466     530 2020-03-27 14:16:23.237   \n",
       "7        333         2            535     536 2020-03-27 14:17:31.237   \n",
       "8        334         4            537     540 2020-03-27 14:17:33.237   \n",
       "9        493        67            699     765 2020-03-27 14:20:15.237   \n",
       "10       500         2            772     773 2020-03-27 14:21:27.237   \n",
       "11       501         3            774     776 2020-03-27 14:21:29.237   \n",
       "12       654         2            929     930 2020-03-27 14:24:04.237   \n",
       "13       656        59            932     990 2020-03-27 14:24:07.237   \n",
       "14       663         2            997     998 2020-03-27 14:25:12.237   \n",
       "15       665         3           1000    1002 2020-03-27 14:25:15.237   \n",
       "16       825        55           1162    1216 2020-03-27 14:27:57.240   \n",
       "17       839         2           1230    1231 2020-03-27 14:29:05.240   \n",
       "18       841         3           1233    1235 2020-03-27 14:29:08.240   \n",
       "19       995         2           1389    1390 2020-03-27 14:31:44.240   \n",
       "20       996        60           1391    1450 2020-03-27 14:31:46.240   \n",
       "21      1006         3           1460    1462 2020-03-27 14:32:55.240   \n",
       "22      1161        66           1617    1682 2020-03-27 14:35:32.240   \n",
       "23      1165         2           1686    1687 2020-03-27 14:36:40.257   \n",
       "24      1167         3           1689    1691 2020-03-27 14:36:43.257   \n",
       "25      1323         2           1847    1848 2020-03-27 14:39:21.257   \n",
       "26      1325        56           1850    1905 2020-03-27 14:39:24.257   \n",
       "27      1334         2           1914    1915 2020-03-27 14:40:28.257   \n",
       "28      1336         3           1917    1919 2020-03-27 14:40:31.257   \n",
       "29      1378         2           1961    1962 2020-03-27 14:41:15.257   \n",
       "30      1494         2           2078    2079 2020-03-27 14:43:11.257   \n",
       "31      1495        60           2080    2139 2020-03-27 14:43:13.257   \n",
       "32      1500         2           2144    2145 2020-03-27 14:44:17.257   \n",
       "33      1501         4           2146    2149 2020-03-27 14:44:19.257   \n",
       "34      1660         2           2308    2309 2020-03-27 14:47:01.257   \n",
       "35      1661        53           2310    2362 2020-03-27 14:47:03.257   \n",
       "36      1680         4           2381    2384 2020-03-27 14:48:14.257   \n",
       "37      1834        55           2538    2592 2020-03-27 14:50:51.257   \n",
       "38      1849         3           2607    2609 2020-03-27 14:52:00.257   \n",
       "39      2005         2           2765    2766 2020-03-27 14:54:38.257   \n",
       "40      2007        60           2768    2827 2020-03-27 14:54:41.257   \n",
       "41      2017         4           2837    2840 2020-03-27 14:55:50.257   \n",
       "42      2172        66           2995    3060 2020-03-27 14:58:28.257   \n",
       "43      2175         2           3063    3064 2020-03-27 14:59:35.257   \n",
       "44      2176         4           3065    3068 2020-03-27 14:59:37.257   \n",
       "45      2297        58           3189    3246 2020-03-27 15:01:41.257   \n",
       "46      2306         2           3255    3256 2020-03-27 15:02:47.257   \n",
       "47      2308         3           3258    3260 2020-03-27 15:02:50.257   \n",
       "48      2370        70           3322    3391 2020-03-27 15:03:54.257   \n",
       "\n",
       "                  Now Time     Diff-1-Over  \n",
       "0  2020-03-27 14:09:48.237        00:01:05  \n",
       "1  2020-03-27 14:09:54.237        00:00:02  \n",
       "2  2020-03-27 14:09:58.237        00:00:04  \n",
       "3  2020-03-27 14:13:37.237        00:01:05  \n",
       "4  2020-03-27 14:13:44.237        00:00:02  \n",
       "5  2020-03-27 14:13:47.237        00:00:03  \n",
       "6  2020-03-27 14:17:27.457 00:01:04.220000  \n",
       "7  2020-03-27 14:17:33.237        00:00:02  \n",
       "8  2020-03-27 14:17:37.237        00:00:04  \n",
       "9  2020-03-27 14:21:21.237        00:01:06  \n",
       "10 2020-03-27 14:21:29.237        00:00:02  \n",
       "11 2020-03-27 14:21:32.237        00:00:03  \n",
       "12 2020-03-27 14:24:06.237        00:00:02  \n",
       "13 2020-03-27 14:25:06.237        00:00:59  \n",
       "14 2020-03-27 14:25:14.237        00:00:02  \n",
       "15 2020-03-27 14:25:18.237        00:00:03  \n",
       "16 2020-03-27 14:28:52.240        00:00:55  \n",
       "17 2020-03-27 14:29:07.240        00:00:02  \n",
       "18 2020-03-27 14:29:11.240        00:00:03  \n",
       "19 2020-03-27 14:31:46.240        00:00:02  \n",
       "20 2020-03-27 14:32:46.240        00:01:00  \n",
       "21 2020-03-27 14:32:58.240        00:00:03  \n",
       "22 2020-03-27 14:36:37.257 00:01:05.017000  \n",
       "23 2020-03-27 14:36:42.257        00:00:02  \n",
       "24 2020-03-27 14:36:46.257        00:00:03  \n",
       "25 2020-03-27 14:39:23.257        00:00:02  \n",
       "26 2020-03-27 14:40:20.257        00:00:56  \n",
       "27 2020-03-27 14:40:30.257        00:00:02  \n",
       "28 2020-03-27 14:40:34.257        00:00:03  \n",
       "29 2020-03-27 14:41:16.727 00:00:01.470000  \n",
       "30 2020-03-27 14:43:13.257        00:00:02  \n",
       "31 2020-03-27 14:44:13.257        00:01:00  \n",
       "32 2020-03-27 14:44:19.257        00:00:02  \n",
       "33 2020-03-27 14:44:23.257        00:00:04  \n",
       "34 2020-03-27 14:47:03.257        00:00:02  \n",
       "35 2020-03-27 14:47:56.257        00:00:53  \n",
       "36 2020-03-27 14:48:18.257        00:00:04  \n",
       "37 2020-03-27 14:51:46.257        00:00:55  \n",
       "38 2020-03-27 14:52:03.257        00:00:03  \n",
       "39 2020-03-27 14:54:40.257        00:00:02  \n",
       "40 2020-03-27 14:55:41.257        00:01:00  \n",
       "41 2020-03-27 14:55:54.257        00:00:04  \n",
       "42 2020-03-27 14:59:33.257        00:01:05  \n",
       "43 2020-03-27 14:59:37.257        00:00:02  \n",
       "44 2020-03-27 14:59:41.257        00:00:04  \n",
       "45 2020-03-27 15:02:39.257        00:00:58  \n",
       "46 2020-03-27 15:02:49.257        00:00:02  \n",
       "47 2020-03-27 15:02:53.257        00:00:03  \n",
       "48 2020-03-27 15:05:03.257        00:01:09  "
      ]
     },
     "execution_count": 30,
     "metadata": {},
     "output_type": "execute_result"
    }
   ],
   "source": [
    "df_sample"
   ]
  },
  {
   "cell_type": "code",
   "execution_count": 31,
   "metadata": {},
   "outputs": [
    {
     "data": {
      "text/plain": [
       "Text(0.5, 1.02, 'Line Plot')"
      ]
     },
     "execution_count": 31,
     "metadata": {},
     "output_type": "execute_result"
    },
    {
     "data": {
      "image/png": "[encoded data removed]",
      "text/plain": [
       "<Figure size 432x288 with 1 Axes>"
      ]
     },
     "metadata": {
      "needs_background": "light"
     },
     "output_type": "display_data"
    }
   ],
   "source": [
    "import seaborn as sns\n",
    "\n",
    "g = sns.lineplot(x = df.index, y = df[\"diff-value\"], data = df)\n",
    "plt.suptitle(\"Line Plot\", y=1.02)"
   ]
  },
  {
   "cell_type": "code",
   "execution_count": 32,
   "metadata": {
    "scrolled": true
   },
   "outputs": [
    {
     "data": {
      "text/plain": [
       "Text(0.5, 1.02, 'LIne Plot')"
      ]
     },
     "execution_count": 32,
     "metadata": {},
     "output_type": "execute_result"
    },
    {
     "data": {
      "image/png": "[encoded data removed]",
      "text/plain": [
       "<Figure size 432x288 with 1 Axes>"
      ]
     },
     "metadata": {
      "needs_background": "light"
     },
     "output_type": "display_data"
    }
   ],
   "source": [
    "g = sns.lineplot(x = df.index, y = df[\"_VALUE\"], data = df)\n",
    "plt.suptitle(\"LIne Plot\", y=1.02)"
   ]
  },
  {
   "cell_type": "code",
   "execution_count": 33,
   "metadata": {},
   "outputs": [
    {
     "data": {
      "image/png": "[encoded data removed]",
      "text/plain": [
       "<Figure size 360x360 with 1 Axes>"
      ]
     },
     "metadata": {},
     "output_type": "display_data"
    }
   ],
   "source": [
    "sns.set_style(\"darkgrid\")\n",
    "sns.lmplot(x=\"_VALUE\", y = \"diff-value\", data = df)\n",
    "plt.title(\"Num index lmPlot\")\n",
    "plt.show()"
   ]
  },
  {
   "cell_type": "code",
   "execution_count": 34,
   "metadata": {},
   "outputs": [
    {
     "data": {
      "image/png": "[encoded data removed]",
      "text/plain": [
       "<Figure size 432x288 with 1 Axes>"
      ]
     },
     "metadata": {},
     "output_type": "display_data"
    }
   ],
   "source": [
    "sns.distplot(df[\"diff-value\"])\n",
    "plt.title(\"disPlot\")\n",
    "plt.show()"
   ]
  },
  {
   "cell_type": "code",
   "execution_count": 35,
   "metadata": {},
   "outputs": [
    {
     "data": {
      "image/png": "[encoded data removed]",
      "text/plain": [
       "<Figure size 432x288 with 1 Axes>"
      ]
     },
     "metadata": {},
     "output_type": "display_data"
    }
   ],
   "source": [
    "sns.countplot(x=\"Num Index\", data=df_sample)\n",
    "plt.title(\"Counts each that more then one\")\n",
    "plt.show()"
   ]
  },
  {
   "cell_type": "code",
   "execution_count": 36,
   "metadata": {},
   "outputs": [
    {
     "data": {
      "image/png": "[encoded data removed]",
      "text/plain": [
       "<Figure size 432x432 with 3 Axes>"
      ]
     },
     "metadata": {},
     "output_type": "display_data"
    }
   ],
   "source": [
    "sns.jointplot(x=\"_VALUE\", y=\"diff-value\", data=df)\n",
    "plt.suptitle(\"Scatter Plot\", y=1.02)\n",
    "plt.show()"
   ]
  },
  {
   "cell_type": "code",
   "execution_count": 37,
   "metadata": {},
   "outputs": [
    {
     "data": {
      "image/png": "[encoded data removed]",
      "text/plain": [
       "<Figure size 432x288 with 1 Axes>"
      ]
     },
     "metadata": {},
     "output_type": "display_data"
    }
   ],
   "source": [
    "sns.kdeplot(df[\"_VALUE\"], df[\"diff-value\"])\n",
    "plt.title(\"kde plot (Kernel density estimation)\")\n",
    "plt.show()"
   ]
  },
  {
   "cell_type": "code",
   "execution_count": 38,
   "metadata": {},
   "outputs": [
    {
     "data": {
      "image/png": "[encoded data removed]",
      "text/plain": [
       "<Figure size 432x432 with 3 Axes>"
      ]
     },
     "metadata": {},
     "output_type": "display_data"
    }
   ],
   "source": [
    "sns.jointplot(x=\"_VALUE\", y=\"diff-value\", data=df, kind=\"kde\")\n",
    "plt.suptitle(\"Joint Plot\", y=1.02)\n",
    "plt.show()"
   ]
  },
  {
   "cell_type": "code",
   "execution_count": 39,
   "metadata": {},
   "outputs": [
    {
     "data": {
      "image/png": "[encoded data removed]",
      "text/plain": [
       "<Figure size 360x360 with 6 Axes>"
      ]
     },
     "metadata": {},
     "output_type": "display_data"
    }
   ],
   "source": [
    "sns.pairplot(df)\n",
    "plt.title(\"Pair Plot\")\n",
    "plt.show()"
   ]
  },
  {
   "cell_type": "code",
   "execution_count": 40,
   "metadata": {},
   "outputs": [
    {
     "data": {
      "image/png": "[encoded data removed]",
      "text/plain": [
       "<Figure size 360x360 with 6 Axes>"
      ]
     },
     "metadata": {},
     "output_type": "display_data"
    }
   ],
   "source": [
    "sns.pairplot(df, palette=\"hue1\", diag_kind=\"kde\")\n",
    "# sns.pairplot(df, palette=\"hue1\")\n",
    "plt.title(\"data Pair Plot\")\n",
    "plt.show()"
   ]
  },
  {
   "cell_type": "code",
   "execution_count": null,
   "metadata": {},
   "outputs": [],
   "source": []
  },
  {
   "cell_type": "code",
   "execution_count": null,
   "metadata": {},
   "outputs": [],
   "source": []
  },
  {
   "cell_type": "code",
   "execution_count": null,
   "metadata": {},
   "outputs": [],
   "source": []
  },
  {
   "cell_type": "code",
   "execution_count": null,
   "metadata": {},
   "outputs": [],
   "source": []
  },
  {
   "cell_type": "code",
   "execution_count": null,
   "metadata": {},
   "outputs": [],
   "source": []
  },
  {
   "cell_type": "code",
   "execution_count": null,
   "metadata": {},
   "outputs": [],
   "source": []
  },
  {
   "cell_type": "code",
   "execution_count": null,
   "metadata": {},
   "outputs": [],
   "source": []
  },
  {
   "cell_type": "code",
   "execution_count": null,
   "metadata": {},
   "outputs": [],
   "source": []
  },
  {
   "cell_type": "code",
   "execution_count": null,
   "metadata": {},
   "outputs": [],
   "source": []
  },
  {
   "cell_type": "code",
   "execution_count": null,
   "metadata": {},
   "outputs": [],
   "source": []
  },
  {
   "cell_type": "code",
   "execution_count": null,
   "metadata": {},
   "outputs": [],
   "source": []
  },
  {
   "cell_type": "code",
   "execution_count": null,
   "metadata": {},
   "outputs": [],
   "source": []
  },
  {
   "cell_type": "code",
   "execution_count": null,
   "metadata": {},
   "outputs": [],
   "source": []
  },
  {
   "cell_type": "code",
   "execution_count": null,
   "metadata": {},
   "outputs": [],
   "source": []
  },
  {
   "cell_type": "code",
   "execution_count": null,
   "metadata": {},
   "outputs": [],
   "source": []
  },
  {
   "cell_type": "code",
   "execution_count": null,
   "metadata": {},
   "outputs": [],
   "source": []
  },
  {
   "cell_type": "code",
   "execution_count": null,
   "metadata": {},
   "outputs": [],
   "source": []
  },
  {
   "cell_type": "code",
   "execution_count": null,
   "metadata": {},
   "outputs": [],
   "source": []
  },
  {
   "cell_type": "code",
   "execution_count": null,
   "metadata": {},
   "outputs": [],
   "source": []
  },
  {
   "cell_type": "code",
   "execution_count": null,
   "metadata": {},
   "outputs": [],
   "source": []
  },
  {
   "cell_type": "code",
   "execution_count": null,
   "metadata": {},
   "outputs": [],
   "source": []
  },
  {
   "cell_type": "code",
   "execution_count": null,
   "metadata": {},
   "outputs": [],
   "source": []
  },
  {
   "cell_type": "code",
   "execution_count": null,
   "metadata": {},
   "outputs": [],
   "source": []
  },
  {
   "cell_type": "code",
   "execution_count": null,
   "metadata": {},
   "outputs": [],
   "source": []
  },
  {
   "cell_type": "code",
   "execution_count": null,
   "metadata": {},
   "outputs": [],
   "source": []
  },
  {
   "cell_type": "code",
   "execution_count": null,
   "metadata": {},
   "outputs": [],
   "source": []
  },
  {
   "cell_type": "code",
   "execution_count": null,
   "metadata": {},
   "outputs": [],
   "source": []
  },
  {
   "cell_type": "code",
   "execution_count": null,
   "metadata": {},
   "outputs": [],
   "source": []
  },
  {
   "cell_type": "code",
   "execution_count": null,
   "metadata": {},
   "outputs": [],
   "source": []
  },
  {
   "cell_type": "code",
   "execution_count": null,
   "metadata": {},
   "outputs": [],
   "source": []
  },
  {
   "cell_type": "code",
   "execution_count": null,
   "metadata": {},
   "outputs": [],
   "source": []
  }
 ],
 "metadata": {
  "kernelspec": {
   "display_name": "Python 3",
   "language": "python",
   "name": "python3"
  },
  "language_info": {
   "codemirror_mode": {
    "name": "ipython",
    "version": 3
   },
   "file_extension": ".py",
   "mimetype": "text/x-python",
   "name": "python",
   "nbconvert_exporter": "python",
   "pygments_lexer": "ipython3",
   "version": "3.6.9"
  }
 },
 "nbformat": 4,
 "nbformat_minor": 2
}
